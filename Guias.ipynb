{
  "nbformat": 4,
  "nbformat_minor": 0,
  "metadata": {
    "colab": {
      "provenance": [],
      "authorship_tag": "ABX9TyPp7EupTBdg40oem8QJszri",
      "include_colab_link": true
    },
    "kernelspec": {
      "name": "python3",
      "display_name": "Python 3"
    },
    "language_info": {
      "name": "python"
    }
  },
  "cells": [
    {
      "cell_type": "markdown",
      "metadata": {
        "id": "view-in-github",
        "colab_type": "text"
      },
      "source": [
        "<a href=\"https://colab.research.google.com/github/Altairhidden/Guiasremision/blob/main/Guias.ipynb\" target=\"_parent\"><img src=\"https://colab.research.google.com/assets/colab-badge.svg\" alt=\"Open In Colab\"/></a>"
      ]
    },
    {
      "cell_type": "code",
      "source": [
        "pip install requests pandas openpyxl"
      ],
      "metadata": {
        "colab": {
          "base_uri": "https://localhost:8080/"
        },
        "id": "csx7vPygfDMg",
        "outputId": "bbf98fed-fe1e-4cb8-af9d-abc564bb5b75"
      },
      "execution_count": 85,
      "outputs": [
        {
          "output_type": "stream",
          "name": "stdout",
          "text": [
            "Requirement already satisfied: requests in /usr/local/lib/python3.11/dist-packages (2.32.3)\n",
            "Requirement already satisfied: pandas in /usr/local/lib/python3.11/dist-packages (2.2.2)\n",
            "Requirement already satisfied: openpyxl in /usr/local/lib/python3.11/dist-packages (3.1.5)\n",
            "Requirement already satisfied: charset-normalizer<4,>=2 in /usr/local/lib/python3.11/dist-packages (from requests) (3.4.1)\n",
            "Requirement already satisfied: idna<4,>=2.5 in /usr/local/lib/python3.11/dist-packages (from requests) (3.10)\n",
            "Requirement already satisfied: urllib3<3,>=1.21.1 in /usr/local/lib/python3.11/dist-packages (from requests) (2.3.0)\n",
            "Requirement already satisfied: certifi>=2017.4.17 in /usr/local/lib/python3.11/dist-packages (from requests) (2025.1.31)\n",
            "Requirement already satisfied: numpy>=1.23.2 in /usr/local/lib/python3.11/dist-packages (from pandas) (2.0.2)\n",
            "Requirement already satisfied: python-dateutil>=2.8.2 in /usr/local/lib/python3.11/dist-packages (from pandas) (2.8.2)\n",
            "Requirement already satisfied: pytz>=2020.1 in /usr/local/lib/python3.11/dist-packages (from pandas) (2025.2)\n",
            "Requirement already satisfied: tzdata>=2022.7 in /usr/local/lib/python3.11/dist-packages (from pandas) (2025.2)\n",
            "Requirement already satisfied: et-xmlfile in /usr/local/lib/python3.11/dist-packages (from openpyxl) (2.0.0)\n",
            "Requirement already satisfied: six>=1.5 in /usr/local/lib/python3.11/dist-packages (from python-dateutil>=2.8.2->pandas) (1.17.0)\n"
          ]
        }
      ]
    },
    {
      "cell_type": "code",
      "source": [
        "pip install requests beautifulsoup4 PyPDF2 pandas openpyxl"
      ],
      "metadata": {
        "colab": {
          "base_uri": "https://localhost:8080/"
        },
        "id": "QC-pqf2IQLNV",
        "outputId": "b8429f49-328a-4a42-ddc8-f2eeab90d7ce"
      },
      "execution_count": 53,
      "outputs": [
        {
          "output_type": "stream",
          "name": "stdout",
          "text": [
            "Requirement already satisfied: requests in /usr/local/lib/python3.11/dist-packages (2.32.3)\n",
            "Requirement already satisfied: beautifulsoup4 in /usr/local/lib/python3.11/dist-packages (4.13.3)\n",
            "Requirement already satisfied: PyPDF2 in /usr/local/lib/python3.11/dist-packages (3.0.1)\n",
            "Requirement already satisfied: pandas in /usr/local/lib/python3.11/dist-packages (2.2.2)\n",
            "Requirement already satisfied: openpyxl in /usr/local/lib/python3.11/dist-packages (3.1.5)\n",
            "Requirement already satisfied: charset-normalizer<4,>=2 in /usr/local/lib/python3.11/dist-packages (from requests) (3.4.1)\n",
            "Requirement already satisfied: idna<4,>=2.5 in /usr/local/lib/python3.11/dist-packages (from requests) (3.10)\n",
            "Requirement already satisfied: urllib3<3,>=1.21.1 in /usr/local/lib/python3.11/dist-packages (from requests) (2.3.0)\n",
            "Requirement already satisfied: certifi>=2017.4.17 in /usr/local/lib/python3.11/dist-packages (from requests) (2025.1.31)\n",
            "Requirement already satisfied: soupsieve>1.2 in /usr/local/lib/python3.11/dist-packages (from beautifulsoup4) (2.6)\n",
            "Requirement already satisfied: typing-extensions>=4.0.0 in /usr/local/lib/python3.11/dist-packages (from beautifulsoup4) (4.13.1)\n",
            "Requirement already satisfied: numpy>=1.23.2 in /usr/local/lib/python3.11/dist-packages (from pandas) (2.0.2)\n",
            "Requirement already satisfied: python-dateutil>=2.8.2 in /usr/local/lib/python3.11/dist-packages (from pandas) (2.8.2)\n",
            "Requirement already satisfied: pytz>=2020.1 in /usr/local/lib/python3.11/dist-packages (from pandas) (2025.2)\n",
            "Requirement already satisfied: tzdata>=2022.7 in /usr/local/lib/python3.11/dist-packages (from pandas) (2025.2)\n",
            "Requirement already satisfied: et-xmlfile in /usr/local/lib/python3.11/dist-packages (from openpyxl) (2.0.0)\n",
            "Requirement already satisfied: six>=1.5 in /usr/local/lib/python3.11/dist-packages (from python-dateutil>=2.8.2->pandas) (1.17.0)\n"
          ]
        }
      ]
    },
    {
      "cell_type": "code",
      "source": [
        "pip install pyinstaller"
      ],
      "metadata": {
        "id": "JESa0IbAPxnv",
        "outputId": "02663f2d-8211-4151-89bf-2eb8a4fb9217",
        "colab": {
          "base_uri": "https://localhost:8080/"
        }
      },
      "execution_count": 50,
      "outputs": [
        {
          "output_type": "stream",
          "name": "stdout",
          "text": [
            "Collecting pyinstaller\n",
            "  Downloading pyinstaller-6.12.0-py3-none-manylinux2014_x86_64.whl.metadata (8.3 kB)\n",
            "Requirement already satisfied: setuptools>=42.0.0 in /usr/local/lib/python3.11/dist-packages (from pyinstaller) (75.2.0)\n",
            "Collecting altgraph (from pyinstaller)\n",
            "  Downloading altgraph-0.17.4-py2.py3-none-any.whl.metadata (7.3 kB)\n",
            "Collecting pyinstaller-hooks-contrib>=2025.1 (from pyinstaller)\n",
            "  Downloading pyinstaller_hooks_contrib-2025.2-py3-none-any.whl.metadata (16 kB)\n",
            "Requirement already satisfied: packaging>=22.0 in /usr/local/lib/python3.11/dist-packages (from pyinstaller) (24.2)\n",
            "Downloading pyinstaller-6.12.0-py3-none-manylinux2014_x86_64.whl (716 kB)\n",
            "\u001b[2K   \u001b[90m━━━━━━━━━━━━━━━━━━━━━━━━━━━━━━━━━━━━━━━━\u001b[0m \u001b[32m717.0/717.0 kB\u001b[0m \u001b[31m10.6 MB/s\u001b[0m eta \u001b[36m0:00:00\u001b[0m\n",
            "\u001b[?25hDownloading pyinstaller_hooks_contrib-2025.2-py3-none-any.whl (351 kB)\n",
            "\u001b[2K   \u001b[90m━━━━━━━━━━━━━━━━━━━━━━━━━━━━━━━━━━━━━━━━\u001b[0m \u001b[32m351.0/351.0 kB\u001b[0m \u001b[31m19.1 MB/s\u001b[0m eta \u001b[36m0:00:00\u001b[0m\n",
            "\u001b[?25hDownloading altgraph-0.17.4-py2.py3-none-any.whl (21 kB)\n",
            "Installing collected packages: altgraph, pyinstaller-hooks-contrib, pyinstaller\n",
            "Successfully installed altgraph-0.17.4 pyinstaller-6.12.0 pyinstaller-hooks-contrib-2025.2\n"
          ]
        }
      ]
    },
    {
      "cell_type": "code",
      "source": [
        "pip install pyinstaller"
      ],
      "metadata": {
        "colab": {
          "base_uri": "https://localhost:8080/"
        },
        "id": "EC3Z1V7Nmg3T",
        "outputId": "02e31e76-99f8-48b4-9583-6a4e97b7eea5"
      },
      "execution_count": 100,
      "outputs": [
        {
          "output_type": "stream",
          "name": "stdout",
          "text": [
            "Requirement already satisfied: pyinstaller in /usr/local/lib/python3.11/dist-packages (6.12.0)\n",
            "Requirement already satisfied: setuptools>=42.0.0 in /usr/local/lib/python3.11/dist-packages (from pyinstaller) (75.2.0)\n",
            "Requirement already satisfied: altgraph in /usr/local/lib/python3.11/dist-packages (from pyinstaller) (0.17.4)\n",
            "Requirement already satisfied: pyinstaller-hooks-contrib>=2025.1 in /usr/local/lib/python3.11/dist-packages (from pyinstaller) (2025.2)\n",
            "Requirement already satisfied: packaging>=22.0 in /usr/local/lib/python3.11/dist-packages (from pyinstaller) (24.2)\n"
          ]
        }
      ]
    },
    {
      "cell_type": "code",
      "source": [
        "import os\n",
        "import pandas as pd\n",
        "from PyPDF2 import PdfMerger, PdfReader\n",
        "\n",
        "def buscar_archivos_pdf(carpeta):\n",
        "    \"\"\"Buscar archivos PDF en la carpeta especificada.\"\"\"\n",
        "    pdf_files = []\n",
        "    for archivo in os.listdir(carpeta):\n",
        "        if archivo.endswith('.pdf'):\n",
        "            pdf_files.append(os.path.join(carpeta, archivo))\n",
        "    return pdf_files\n",
        "\n",
        "def unir_pdfs(pdf_list, output_filename):\n",
        "    merger = PdfMerger()\n",
        "    for pdf in pdf_list:\n",
        "        merger.append(pdf)\n",
        "    merger.write(output_filename)\n",
        "    merger.close()\n",
        "    print(f'Archivos PDF unidos y guardados como: {output_filename}')\n",
        "\n",
        "def contar_paginas(pdf_file):\n",
        "    \"\"\"Contar el número de páginas en un archivo PDF.\"\"\"\n",
        "    with open(pdf_file, 'rb') as f:\n",
        "        reader = PdfReader(f)\n",
        "        return len(reader.pages)\n",
        "\n",
        "def main():\n",
        "    # Ruta de la carpeta donde se encuentran los archivos PDF\n",
        "    carpeta_pdf = r\"/content/PDF\"  # Ruta predeterminada\n",
        "\n",
        "    # Buscar archivos PDF en la carpeta\n",
        "    archivos_descargados = buscar_archivos_pdf(carpeta_pdf)\n",
        "\n",
        "    # Ruta del archivo de Excel por defecto\n",
        "    archivo_excel = r\"/Guias.xlsx\"  # Ruta predeterminada\n",
        "    print(f\"Usando archivo de Excel: {archivo_excel}\")\n",
        "\n",
        "    try:\n",
        "        df = pd.read_excel(archivo_excel)\n",
        "\n",
        "        # Pedir al usuario que ingrese un dato de la columna 4\n",
        "        dato_columna_4 = input(\"Ingresa según el Excel el dato exacto del transportista: \")\n",
        "\n",
        "        # Filtrar los datos de la columna 11 según el dato ingresado de la columna 4\n",
        "        nombres_pdfs = df[df.iloc[:, 3].astype(str).str.strip() == dato_columna_4].iloc[:, 10].astype(str).tolist()\n",
        "\n",
        "        print(\"Nombres de archivos extraídos del Excel:\")\n",
        "        print(nombres_pdfs)  # Imprimir los nombres extraídos para verificar\n",
        "    except Exception as e:\n",
        "        print(f'Error al leer el archivo de Excel: {e}')\n",
        "        return\n",
        "\n",
        "    pdfs_a_unir_1_pagina = []\n",
        "    pdfs_a_unir_2_paginas = []\n",
        "\n",
        "    for nombre_pdf in nombres_pdfs:\n",
        "        nombre_pdf = nombre_pdf.strip()  # Eliminar espacios en blanco\n",
        "        print(f\"Buscando archivo: {nombre_pdf}\")  # Imprimir el nombre que se busca\n",
        "        for archivo in archivos_descargados:\n",
        "            if os.path.basename(archivo) == nombre_pdf:\n",
        "                num_paginas = contar_paginas(archivo)\n",
        "                if num_paginas == 1:\n",
        "                    pdfs_a_unir_1_pagina.append(archivo)\n",
        "                    print(f\"Archivo de 1 página encontrado: {archivo}\")\n",
        "                elif num_paginas == 2:\n",
        "                    pdfs_a_unir_2_paginas.append(archivo)\n",
        "                    print(f\"Archivo de 2 páginas encontrado: {archivo}\")\n",
        "                break  # Salir del bucle si se encuentra el archivo\n",
        "\n",
        "    if pdfs_a_unir_1_pagina:\n",
        "        unir_pdfs(pdfs_a_unir_1_pagina, 'archivos_unidos_1_pagina.pdf')\n",
        "    else:\n",
        "        print(\"No se encontraron archivos de 1 página que coincidan con los nombres proporcionados.\")\n",
        "\n",
        "    if pdfs_a_unir_2_paginas:\n",
        "        unir_pdfs(pdfs_a_unir_2_paginas, 'archivos_unidos_2_paginas.pdf')\n",
        "    else:\n",
        "        print(\"No se encontraron archivos de 2 páginas que coincidan con los nombres proporcionados.\")\n",
        "\n",
        "if __name__ == \"__main__\":\n",
        "    main()"
      ],
      "metadata": {
        "colab": {
          "base_uri": "https://localhost:8080/"
        },
        "id": "7u6d68tj_FX-",
        "outputId": "7490bd4e-a14a-4b61-93f5-844694e3ed9c"
      },
      "execution_count": 106,
      "outputs": [
        {
          "output_type": "stream",
          "name": "stdout",
          "text": [
            "Usando archivo de Excel: /Guias.xlsx\n",
            "Ingresa según el Excel el dato exacto del transportista: MULTISERVICIOS E INVERSIONES LOS JIBAROS E.I.R.L / V5Q720\n",
            "Nombres de archivos extraídos del Excel:\n",
            "['20100093830-09-T071-47954.pdf', '20100093830-09-T071-47955.pdf', '20100093830-09-T071-47956.pdf', '20100093830-09-T071-47957.pdf']\n",
            "Buscando archivo: 20100093830-09-T071-47954.pdf\n",
            "Archivo de 2 páginas encontrado: /content/PDF/20100093830-09-T071-47954.pdf\n",
            "Buscando archivo: 20100093830-09-T071-47955.pdf\n",
            "Archivo de 1 página encontrado: /content/PDF/20100093830-09-T071-47955.pdf\n",
            "Buscando archivo: 20100093830-09-T071-47956.pdf\n",
            "Archivo de 2 páginas encontrado: /content/PDF/20100093830-09-T071-47956.pdf\n",
            "Buscando archivo: 20100093830-09-T071-47957.pdf\n",
            "Archivo de 2 páginas encontrado: /content/PDF/20100093830-09-T071-47957.pdf\n",
            "Archivos PDF unidos y guardados como: archivos_unidos_1_pagina.pdf\n",
            "Archivos PDF unidos y guardados como: archivos_unidos_2_paginas.pdf\n"
          ]
        }
      ]
    }
  ]
}